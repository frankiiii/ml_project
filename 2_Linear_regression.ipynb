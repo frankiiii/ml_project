{
 "cells": [
  {
   "cell_type": "code",
   "execution_count": null,
   "id": "f589e1e5-4017-46d7-aeb2-420099543583",
   "metadata": {},
   "outputs": [],
   "source": [
    "### Import libraries ----\n",
    "import pandas as pd"
   ]
  },
  {
   "cell_type": "code",
   "execution_count": null,
   "id": "9c90878b-3d59-4804-b2d1-f70d4570988d",
   "metadata": {},
   "outputs": [],
   "source": [
    "### Prepare data ----\n",
    "!Python 01_Get_UCDP.py"
   ]
  }
 ],
 "metadata": {
  "kernelspec": {
   "display_name": "Python 3 (ipykernel)",
   "language": "python",
   "name": "python3"
  },
  "language_info": {
   "codemirror_mode": {
    "name": "ipython",
    "version": 3
   },
   "file_extension": ".py",
   "mimetype": "text/x-python",
   "name": "python",
   "nbconvert_exporter": "python",
   "pygments_lexer": "ipython3",
   "version": "3.10.8"
  }
 },
 "nbformat": 4,
 "nbformat_minor": 5
}
